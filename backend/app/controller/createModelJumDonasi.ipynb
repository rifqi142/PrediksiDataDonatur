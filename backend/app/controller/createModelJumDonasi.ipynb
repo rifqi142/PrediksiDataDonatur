{
 "cells": [
  {
   "cell_type": "code",
   "execution_count": 2,
   "metadata": {},
   "outputs": [],
   "source": [
    "import numpy as np\n",
    "import pandas as pd\n",
    "from sklearn.preprocessing import LabelEncoder\n",
    "from sklearn.metrics import mean_absolute_percentage_error\n",
    "from sklearn.ensemble import RandomForestRegressor"
   ]
  },
  {
   "cell_type": "code",
   "execution_count": 3,
   "metadata": {},
   "outputs": [],
   "source": [
    "#Read dataset yang digunakan\n",
    "dataset = pd.read_csv('../../dataset/donation.csv')"
   ]
  },
  {
   "cell_type": "code",
   "execution_count": 4,
   "metadata": {},
   "outputs": [
    {
     "name": "stdout",
     "output_type": "stream",
     "text": [
      "<class 'pandas.core.frame.DataFrame'>\n",
      "RangeIndex: 419 entries, 0 to 418\n",
      "Data columns (total 5 columns):\n",
      " #   Column      Non-Null Count  Dtype \n",
      "---  ------      --------------  ----- \n",
      " 0   Tahun       419 non-null    int64 \n",
      " 1   Bulan       419 non-null    int64 \n",
      " 2   Jenis       419 non-null    object\n",
      " 3   Donasi      419 non-null    int64 \n",
      " 4   JumlahData  419 non-null    int64 \n",
      "dtypes: int64(4), object(1)\n",
      "memory usage: 16.5+ KB\n"
     ]
    }
   ],
   "source": [
    "# Tampilkan informasi tentang dataset\n",
    "dataset.info()"
   ]
  },
  {
   "cell_type": "code",
   "execution_count": 5,
   "metadata": {},
   "outputs": [
    {
     "data": {
      "text/html": [
       "<div>\n",
       "<style scoped>\n",
       "    .dataframe tbody tr th:only-of-type {\n",
       "        vertical-align: middle;\n",
       "    }\n",
       "\n",
       "    .dataframe tbody tr th {\n",
       "        vertical-align: top;\n",
       "    }\n",
       "\n",
       "    .dataframe thead th {\n",
       "        text-align: right;\n",
       "    }\n",
       "</style>\n",
       "<table border=\"1\" class=\"dataframe\">\n",
       "  <thead>\n",
       "    <tr style=\"text-align: right;\">\n",
       "      <th></th>\n",
       "      <th>Tahun</th>\n",
       "      <th>Bulan</th>\n",
       "      <th>Jenis</th>\n",
       "      <th>Donasi</th>\n",
       "      <th>JumlahData</th>\n",
       "    </tr>\n",
       "  </thead>\n",
       "  <tbody>\n",
       "    <tr>\n",
       "      <th>0</th>\n",
       "      <td>2018</td>\n",
       "      <td>1</td>\n",
       "      <td>CILKUR</td>\n",
       "      <td>12015348</td>\n",
       "      <td>36</td>\n",
       "    </tr>\n",
       "    <tr>\n",
       "      <th>1</th>\n",
       "      <td>2018</td>\n",
       "      <td>1</td>\n",
       "      <td>INFAK</td>\n",
       "      <td>1069019814</td>\n",
       "      <td>3713</td>\n",
       "    </tr>\n",
       "    <tr>\n",
       "      <th>2</th>\n",
       "      <td>2018</td>\n",
       "      <td>1</td>\n",
       "      <td>INFAK TEMATIK</td>\n",
       "      <td>380513612</td>\n",
       "      <td>614</td>\n",
       "    </tr>\n",
       "    <tr>\n",
       "      <th>3</th>\n",
       "      <td>2018</td>\n",
       "      <td>1</td>\n",
       "      <td>INFAK TERIKAT</td>\n",
       "      <td>3244000</td>\n",
       "      <td>13</td>\n",
       "    </tr>\n",
       "    <tr>\n",
       "      <th>4</th>\n",
       "      <td>2018</td>\n",
       "      <td>1</td>\n",
       "      <td>KEMANUSIAAN</td>\n",
       "      <td>465542857</td>\n",
       "      <td>586</td>\n",
       "    </tr>\n",
       "  </tbody>\n",
       "</table>\n",
       "</div>"
      ],
      "text/plain": [
       "   Tahun  Bulan          Jenis      Donasi  JumlahData\n",
       "0   2018      1         CILKUR    12015348          36\n",
       "1   2018      1          INFAK  1069019814        3713\n",
       "2   2018      1  INFAK TEMATIK   380513612         614\n",
       "3   2018      1  INFAK TERIKAT     3244000          13\n",
       "4   2018      1    KEMANUSIAAN   465542857         586"
      ]
     },
     "execution_count": 5,
     "metadata": {},
     "output_type": "execute_result"
    }
   ],
   "source": [
    "# Tampilkan beberapa baris pertama dari dataset\n",
    "dataset.head()"
   ]
  },
  {
   "cell_type": "code",
   "execution_count": 6,
   "metadata": {},
   "outputs": [
    {
     "data": {
      "text/html": [
       "<div>\n",
       "<style scoped>\n",
       "    .dataframe tbody tr th:only-of-type {\n",
       "        vertical-align: middle;\n",
       "    }\n",
       "\n",
       "    .dataframe tbody tr th {\n",
       "        vertical-align: top;\n",
       "    }\n",
       "\n",
       "    .dataframe thead th {\n",
       "        text-align: right;\n",
       "    }\n",
       "</style>\n",
       "<table border=\"1\" class=\"dataframe\">\n",
       "  <thead>\n",
       "    <tr style=\"text-align: right;\">\n",
       "      <th></th>\n",
       "      <th>Tahun</th>\n",
       "      <th>Bulan</th>\n",
       "      <th>Donasi</th>\n",
       "      <th>JumlahData</th>\n",
       "    </tr>\n",
       "  </thead>\n",
       "  <tbody>\n",
       "    <tr>\n",
       "      <th>count</th>\n",
       "      <td>419.000000</td>\n",
       "      <td>419.000000</td>\n",
       "      <td>4.190000e+02</td>\n",
       "      <td>419.000000</td>\n",
       "    </tr>\n",
       "    <tr>\n",
       "      <th>mean</th>\n",
       "      <td>2019.496420</td>\n",
       "      <td>6.479714</td>\n",
       "      <td>2.434773e+09</td>\n",
       "      <td>2984.797136</td>\n",
       "    </tr>\n",
       "    <tr>\n",
       "      <th>std</th>\n",
       "      <td>1.120433</td>\n",
       "      <td>3.442132</td>\n",
       "      <td>6.406070e+09</td>\n",
       "      <td>5819.713238</td>\n",
       "    </tr>\n",
       "    <tr>\n",
       "      <th>min</th>\n",
       "      <td>2018.000000</td>\n",
       "      <td>1.000000</td>\n",
       "      <td>-3.774340e+05</td>\n",
       "      <td>1.000000</td>\n",
       "    </tr>\n",
       "    <tr>\n",
       "      <th>25%</th>\n",
       "      <td>2018.500000</td>\n",
       "      <td>4.000000</td>\n",
       "      <td>1.778365e+07</td>\n",
       "      <td>19.500000</td>\n",
       "    </tr>\n",
       "    <tr>\n",
       "      <th>50%</th>\n",
       "      <td>2019.000000</td>\n",
       "      <td>6.000000</td>\n",
       "      <td>5.464254e+08</td>\n",
       "      <td>751.000000</td>\n",
       "    </tr>\n",
       "    <tr>\n",
       "      <th>75%</th>\n",
       "      <td>2020.500000</td>\n",
       "      <td>9.000000</td>\n",
       "      <td>1.433551e+09</td>\n",
       "      <td>3061.500000</td>\n",
       "    </tr>\n",
       "    <tr>\n",
       "      <th>max</th>\n",
       "      <td>2021.000000</td>\n",
       "      <td>12.000000</td>\n",
       "      <td>5.545576e+10</td>\n",
       "      <td>57722.000000</td>\n",
       "    </tr>\n",
       "  </tbody>\n",
       "</table>\n",
       "</div>"
      ],
      "text/plain": [
       "             Tahun       Bulan        Donasi    JumlahData\n",
       "count   419.000000  419.000000  4.190000e+02    419.000000\n",
       "mean   2019.496420    6.479714  2.434773e+09   2984.797136\n",
       "std       1.120433    3.442132  6.406070e+09   5819.713238\n",
       "min    2018.000000    1.000000 -3.774340e+05      1.000000\n",
       "25%    2018.500000    4.000000  1.778365e+07     19.500000\n",
       "50%    2019.000000    6.000000  5.464254e+08    751.000000\n",
       "75%    2020.500000    9.000000  1.433551e+09   3061.500000\n",
       "max    2021.000000   12.000000  5.545576e+10  57722.000000"
      ]
     },
     "execution_count": 6,
     "metadata": {},
     "output_type": "execute_result"
    }
   ],
   "source": [
    "# Tampilkan deskripsi statistik dari dataset\n",
    "dataset.describe()"
   ]
  },
  {
   "cell_type": "code",
   "execution_count": 7,
   "metadata": {},
   "outputs": [
    {
     "name": "stdout",
     "output_type": "stream",
     "text": [
      "Tipe data kolom:\n",
      "Tahun          int64\n",
      "Bulan          int64\n",
      "Jenis         object\n",
      "Donasi         int64\n",
      "JumlahData     int64\n",
      "dtype: object\n"
     ]
    }
   ],
   "source": [
    "# Periksa tipe data untuk setiap kolom\n",
    "print(\"Tipe data kolom:\")\n",
    "print(dataset.dtypes)"
   ]
  },
  {
   "cell_type": "code",
   "execution_count": 8,
   "metadata": {},
   "outputs": [
    {
     "name": "stdout",
     "output_type": "stream",
     "text": [
      "Jumlah duplikasi data pada keseluruhan dataset: 0\n"
     ]
    }
   ],
   "source": [
    "# Pengecekan duplikasi data pada keseluruhan dataset\n",
    "duplicate_rows = dataset.duplicated()\n",
    "duplicate_count = duplicate_rows.sum()\n",
    "print(f\"Jumlah duplikasi data pada keseluruhan dataset: {duplicate_count}\")"
   ]
  },
  {
   "cell_type": "code",
   "execution_count": 9,
   "metadata": {},
   "outputs": [
    {
     "name": "stdout",
     "output_type": "stream",
     "text": [
      "Jumlah nilai hilang per kolom:\n",
      "Tahun         0\n",
      "Bulan         0\n",
      "Jenis         0\n",
      "Donasi        0\n",
      "JumlahData    0\n",
      "dtype: int64\n"
     ]
    }
   ],
   "source": [
    "# Periksa jumlah nilai yang hilang untuk setiap kolom\n",
    "print(\"Jumlah nilai hilang per kolom:\")\n",
    "print(dataset.isnull().sum())"
   ]
  },
  {
   "cell_type": "code",
   "execution_count": 10,
   "metadata": {},
   "outputs": [
    {
     "data": {
      "text/html": [
       "<div>\n",
       "<style scoped>\n",
       "    .dataframe tbody tr th:only-of-type {\n",
       "        vertical-align: middle;\n",
       "    }\n",
       "\n",
       "    .dataframe tbody tr th {\n",
       "        vertical-align: top;\n",
       "    }\n",
       "\n",
       "    .dataframe thead th {\n",
       "        text-align: right;\n",
       "    }\n",
       "</style>\n",
       "<table border=\"1\" class=\"dataframe\">\n",
       "  <thead>\n",
       "    <tr style=\"text-align: right;\">\n",
       "      <th></th>\n",
       "      <th>Tahun</th>\n",
       "      <th>Bulan</th>\n",
       "      <th>Jenis</th>\n",
       "      <th>Donasi</th>\n",
       "      <th>JumlahData</th>\n",
       "    </tr>\n",
       "  </thead>\n",
       "  <tbody>\n",
       "    <tr>\n",
       "      <th>0</th>\n",
       "      <td>2018</td>\n",
       "      <td>1</td>\n",
       "      <td>CILKUR</td>\n",
       "      <td>12015348</td>\n",
       "      <td>36</td>\n",
       "    </tr>\n",
       "    <tr>\n",
       "      <th>1</th>\n",
       "      <td>2018</td>\n",
       "      <td>1</td>\n",
       "      <td>INFAK</td>\n",
       "      <td>1069019814</td>\n",
       "      <td>3713</td>\n",
       "    </tr>\n",
       "    <tr>\n",
       "      <th>2</th>\n",
       "      <td>2018</td>\n",
       "      <td>1</td>\n",
       "      <td>INFAK TEMATIK</td>\n",
       "      <td>380513612</td>\n",
       "      <td>614</td>\n",
       "    </tr>\n",
       "    <tr>\n",
       "      <th>3</th>\n",
       "      <td>2018</td>\n",
       "      <td>1</td>\n",
       "      <td>INFAK TERIKAT</td>\n",
       "      <td>3244000</td>\n",
       "      <td>13</td>\n",
       "    </tr>\n",
       "    <tr>\n",
       "      <th>4</th>\n",
       "      <td>2018</td>\n",
       "      <td>1</td>\n",
       "      <td>KEMANUSIAAN</td>\n",
       "      <td>465542857</td>\n",
       "      <td>586</td>\n",
       "    </tr>\n",
       "  </tbody>\n",
       "</table>\n",
       "</div>"
      ],
      "text/plain": [
       "   Tahun  Bulan          Jenis      Donasi  JumlahData\n",
       "0   2018      1         CILKUR    12015348          36\n",
       "1   2018      1          INFAK  1069019814        3713\n",
       "2   2018      1  INFAK TEMATIK   380513612         614\n",
       "3   2018      1  INFAK TERIKAT     3244000          13\n",
       "4   2018      1    KEMANUSIAAN   465542857         586"
      ]
     },
     "execution_count": 10,
     "metadata": {},
     "output_type": "execute_result"
    }
   ],
   "source": [
    "dataset.head()"
   ]
  },
  {
   "cell_type": "code",
   "execution_count": 11,
   "metadata": {},
   "outputs": [],
   "source": [
    "# Apply label encoder on \"Jenis\" column\n",
    "encoder = LabelEncoder()\n",
    "dataset_encoded = dataset\n",
    "dataset_encoded['Jenis'] = encoder.fit_transform(dataset_encoded['Jenis'])"
   ]
  },
  {
   "cell_type": "code",
   "execution_count": 12,
   "metadata": {},
   "outputs": [
    {
     "data": {
      "text/html": [
       "<div>\n",
       "<style scoped>\n",
       "    .dataframe tbody tr th:only-of-type {\n",
       "        vertical-align: middle;\n",
       "    }\n",
       "\n",
       "    .dataframe tbody tr th {\n",
       "        vertical-align: top;\n",
       "    }\n",
       "\n",
       "    .dataframe thead th {\n",
       "        text-align: right;\n",
       "    }\n",
       "</style>\n",
       "<table border=\"1\" class=\"dataframe\">\n",
       "  <thead>\n",
       "    <tr style=\"text-align: right;\">\n",
       "      <th></th>\n",
       "      <th>Tahun</th>\n",
       "      <th>Bulan</th>\n",
       "      <th>Jenis</th>\n",
       "      <th>Donasi</th>\n",
       "      <th>JumlahData</th>\n",
       "    </tr>\n",
       "  </thead>\n",
       "  <tbody>\n",
       "    <tr>\n",
       "      <th>0</th>\n",
       "      <td>2018</td>\n",
       "      <td>1</td>\n",
       "      <td>0</td>\n",
       "      <td>12015348</td>\n",
       "      <td>36</td>\n",
       "    </tr>\n",
       "    <tr>\n",
       "      <th>1</th>\n",
       "      <td>2018</td>\n",
       "      <td>1</td>\n",
       "      <td>1</td>\n",
       "      <td>1069019814</td>\n",
       "      <td>3713</td>\n",
       "    </tr>\n",
       "    <tr>\n",
       "      <th>2</th>\n",
       "      <td>2018</td>\n",
       "      <td>1</td>\n",
       "      <td>2</td>\n",
       "      <td>380513612</td>\n",
       "      <td>614</td>\n",
       "    </tr>\n",
       "    <tr>\n",
       "      <th>3</th>\n",
       "      <td>2018</td>\n",
       "      <td>1</td>\n",
       "      <td>3</td>\n",
       "      <td>3244000</td>\n",
       "      <td>13</td>\n",
       "    </tr>\n",
       "    <tr>\n",
       "      <th>4</th>\n",
       "      <td>2018</td>\n",
       "      <td>1</td>\n",
       "      <td>4</td>\n",
       "      <td>465542857</td>\n",
       "      <td>586</td>\n",
       "    </tr>\n",
       "  </tbody>\n",
       "</table>\n",
       "</div>"
      ],
      "text/plain": [
       "   Tahun  Bulan  Jenis      Donasi  JumlahData\n",
       "0   2018      1      0    12015348          36\n",
       "1   2018      1      1  1069019814        3713\n",
       "2   2018      1      2   380513612         614\n",
       "3   2018      1      3     3244000          13\n",
       "4   2018      1      4   465542857         586"
      ]
     },
     "execution_count": 12,
     "metadata": {},
     "output_type": "execute_result"
    }
   ],
   "source": [
    "dataset_encoded.head()"
   ]
  },
  {
   "cell_type": "code",
   "execution_count": 13,
   "metadata": {},
   "outputs": [],
   "source": [
    "# Memisahkan fitur (features) dan target\n",
    "X = dataset_encoded.drop(['Donasi', 'JumlahData'], axis = 1)\n",
    "y = dataset_encoded['Donasi']"
   ]
  },
  {
   "cell_type": "code",
   "execution_count": 14,
   "metadata": {},
   "outputs": [
    {
     "data": {
      "text/html": [
       "<div>\n",
       "<style scoped>\n",
       "    .dataframe tbody tr th:only-of-type {\n",
       "        vertical-align: middle;\n",
       "    }\n",
       "\n",
       "    .dataframe tbody tr th {\n",
       "        vertical-align: top;\n",
       "    }\n",
       "\n",
       "    .dataframe thead th {\n",
       "        text-align: right;\n",
       "    }\n",
       "</style>\n",
       "<table border=\"1\" class=\"dataframe\">\n",
       "  <thead>\n",
       "    <tr style=\"text-align: right;\">\n",
       "      <th></th>\n",
       "      <th>Tahun</th>\n",
       "      <th>Bulan</th>\n",
       "      <th>Jenis</th>\n",
       "    </tr>\n",
       "  </thead>\n",
       "  <tbody>\n",
       "    <tr>\n",
       "      <th>0</th>\n",
       "      <td>2018</td>\n",
       "      <td>1</td>\n",
       "      <td>0</td>\n",
       "    </tr>\n",
       "    <tr>\n",
       "      <th>1</th>\n",
       "      <td>2018</td>\n",
       "      <td>1</td>\n",
       "      <td>1</td>\n",
       "    </tr>\n",
       "    <tr>\n",
       "      <th>2</th>\n",
       "      <td>2018</td>\n",
       "      <td>1</td>\n",
       "      <td>2</td>\n",
       "    </tr>\n",
       "    <tr>\n",
       "      <th>3</th>\n",
       "      <td>2018</td>\n",
       "      <td>1</td>\n",
       "      <td>3</td>\n",
       "    </tr>\n",
       "    <tr>\n",
       "      <th>4</th>\n",
       "      <td>2018</td>\n",
       "      <td>1</td>\n",
       "      <td>4</td>\n",
       "    </tr>\n",
       "  </tbody>\n",
       "</table>\n",
       "</div>"
      ],
      "text/plain": [
       "   Tahun  Bulan  Jenis\n",
       "0   2018      1      0\n",
       "1   2018      1      1\n",
       "2   2018      1      2\n",
       "3   2018      1      3\n",
       "4   2018      1      4"
      ]
     },
     "execution_count": 14,
     "metadata": {},
     "output_type": "execute_result"
    }
   ],
   "source": [
    "X.head()"
   ]
  },
  {
   "cell_type": "code",
   "execution_count": 15,
   "metadata": {},
   "outputs": [
    {
     "data": {
      "text/plain": [
       "0      12015348\n",
       "1    1069019814\n",
       "2     380513612\n",
       "3       3244000\n",
       "4     465542857\n",
       "Name: Donasi, dtype: int64"
      ]
     },
     "execution_count": 15,
     "metadata": {},
     "output_type": "execute_result"
    }
   ],
   "source": [
    "y.head()"
   ]
  },
  {
   "cell_type": "code",
   "execution_count": 16,
   "metadata": {},
   "outputs": [],
   "source": [
    "# Membagi data menjadi data latih dan data uji\n",
    "train_size = int(len(dataset_encoded) * 0.80)\n",
    "X_train, X_test = X[:train_size], X[train_size:]\n",
    "y_train, y_test = y[:train_size], y[train_size:]"
   ]
  },
  {
   "cell_type": "code",
   "execution_count": 17,
   "metadata": {},
   "outputs": [
    {
     "data": {
      "text/html": [
       "<style>#sk-container-id-1 {color: black;background-color: white;}#sk-container-id-1 pre{padding: 0;}#sk-container-id-1 div.sk-toggleable {background-color: white;}#sk-container-id-1 label.sk-toggleable__label {cursor: pointer;display: block;width: 100%;margin-bottom: 0;padding: 0.3em;box-sizing: border-box;text-align: center;}#sk-container-id-1 label.sk-toggleable__label-arrow:before {content: \"▸\";float: left;margin-right: 0.25em;color: #696969;}#sk-container-id-1 label.sk-toggleable__label-arrow:hover:before {color: black;}#sk-container-id-1 div.sk-estimator:hover label.sk-toggleable__label-arrow:before {color: black;}#sk-container-id-1 div.sk-toggleable__content {max-height: 0;max-width: 0;overflow: hidden;text-align: left;background-color: #f0f8ff;}#sk-container-id-1 div.sk-toggleable__content pre {margin: 0.2em;color: black;border-radius: 0.25em;background-color: #f0f8ff;}#sk-container-id-1 input.sk-toggleable__control:checked~div.sk-toggleable__content {max-height: 200px;max-width: 100%;overflow: auto;}#sk-container-id-1 input.sk-toggleable__control:checked~label.sk-toggleable__label-arrow:before {content: \"▾\";}#sk-container-id-1 div.sk-estimator input.sk-toggleable__control:checked~label.sk-toggleable__label {background-color: #d4ebff;}#sk-container-id-1 div.sk-label input.sk-toggleable__control:checked~label.sk-toggleable__label {background-color: #d4ebff;}#sk-container-id-1 input.sk-hidden--visually {border: 0;clip: rect(1px 1px 1px 1px);clip: rect(1px, 1px, 1px, 1px);height: 1px;margin: -1px;overflow: hidden;padding: 0;position: absolute;width: 1px;}#sk-container-id-1 div.sk-estimator {font-family: monospace;background-color: #f0f8ff;border: 1px dotted black;border-radius: 0.25em;box-sizing: border-box;margin-bottom: 0.5em;}#sk-container-id-1 div.sk-estimator:hover {background-color: #d4ebff;}#sk-container-id-1 div.sk-parallel-item::after {content: \"\";width: 100%;border-bottom: 1px solid gray;flex-grow: 1;}#sk-container-id-1 div.sk-label:hover label.sk-toggleable__label {background-color: #d4ebff;}#sk-container-id-1 div.sk-serial::before {content: \"\";position: absolute;border-left: 1px solid gray;box-sizing: border-box;top: 0;bottom: 0;left: 50%;z-index: 0;}#sk-container-id-1 div.sk-serial {display: flex;flex-direction: column;align-items: center;background-color: white;padding-right: 0.2em;padding-left: 0.2em;position: relative;}#sk-container-id-1 div.sk-item {position: relative;z-index: 1;}#sk-container-id-1 div.sk-parallel {display: flex;align-items: stretch;justify-content: center;background-color: white;position: relative;}#sk-container-id-1 div.sk-item::before, #sk-container-id-1 div.sk-parallel-item::before {content: \"\";position: absolute;border-left: 1px solid gray;box-sizing: border-box;top: 0;bottom: 0;left: 50%;z-index: -1;}#sk-container-id-1 div.sk-parallel-item {display: flex;flex-direction: column;z-index: 1;position: relative;background-color: white;}#sk-container-id-1 div.sk-parallel-item:first-child::after {align-self: flex-end;width: 50%;}#sk-container-id-1 div.sk-parallel-item:last-child::after {align-self: flex-start;width: 50%;}#sk-container-id-1 div.sk-parallel-item:only-child::after {width: 0;}#sk-container-id-1 div.sk-dashed-wrapped {border: 1px dashed gray;margin: 0 0.4em 0.5em 0.4em;box-sizing: border-box;padding-bottom: 0.4em;background-color: white;}#sk-container-id-1 div.sk-label label {font-family: monospace;font-weight: bold;display: inline-block;line-height: 1.2em;}#sk-container-id-1 div.sk-label-container {text-align: center;}#sk-container-id-1 div.sk-container {/* jupyter's `normalize.less` sets `[hidden] { display: none; }` but bootstrap.min.css set `[hidden] { display: none !important; }` so we also need the `!important` here to be able to override the default hidden behavior on the sphinx rendered scikit-learn.org. See: https://github.com/scikit-learn/scikit-learn/issues/21755 */display: inline-block !important;position: relative;}#sk-container-id-1 div.sk-text-repr-fallback {display: none;}</style><div id=\"sk-container-id-1\" class=\"sk-top-container\"><div class=\"sk-text-repr-fallback\"><pre>RandomForestRegressor(random_state=2)</pre><b>In a Jupyter environment, please rerun this cell to show the HTML representation or trust the notebook. <br />On GitHub, the HTML representation is unable to render, please try loading this page with nbviewer.org.</b></div><div class=\"sk-container\" hidden><div class=\"sk-item\"><div class=\"sk-estimator sk-toggleable\"><input class=\"sk-toggleable__control sk-hidden--visually\" id=\"sk-estimator-id-1\" type=\"checkbox\" checked><label for=\"sk-estimator-id-1\" class=\"sk-toggleable__label sk-toggleable__label-arrow\">RandomForestRegressor</label><div class=\"sk-toggleable__content\"><pre>RandomForestRegressor(random_state=2)</pre></div></div></div></div></div>"
      ],
      "text/plain": [
       "RandomForestRegressor(random_state=2)"
      ]
     },
     "execution_count": 17,
     "metadata": {},
     "output_type": "execute_result"
    }
   ],
   "source": [
    "# Membuat model Random Forest Regression\n",
    "model = RandomForestRegressor(n_estimators=100, random_state=2)\n",
    "model.fit(X_train, y_train)"
   ]
  },
  {
   "cell_type": "code",
   "execution_count": 18,
   "metadata": {},
   "outputs": [],
   "source": [
    "# Melakukan prediksi pada data uji\n",
    "y_pred = model.predict(X_test)"
   ]
  },
  {
   "cell_type": "code",
   "execution_count": 19,
   "metadata": {},
   "outputs": [
    {
     "name": "stdout",
     "output_type": "stream",
     "text": [
      "Hasil prediksi: [1.05150919e+09 3.79111104e+09 1.14397831e+08 3.09075205e+06\n",
      " 9.89397719e+08 1.05563553e+10 2.61119085e+07 1.48875618e+09\n",
      " 1.82906808e+09 9.01500994e+08 5.88941337e+09 3.56346942e+08\n",
      " 6.46643325e+06 1.01091002e+07 8.42033053e+08 1.17798506e+10\n",
      " 8.52632782e+07 2.34289602e+09 3.63261021e+09 1.14336110e+09\n",
      " 4.39643267e+09 3.59679561e+08 1.57228943e+07 5.53115243e+06\n",
      " 2.03673097e+09 4.08472459e+10 3.36286189e+07 1.05739328e+09\n",
      " 1.49046451e+09 6.41641654e+08 2.77066919e+09 3.92354101e+09\n",
      " 5.23224861e+08 3.46157435e+08 1.41102959e+09 1.79638799e+10\n",
      " 9.15940205e+07 1.23632783e+09 1.28495699e+09 1.28049997e+09\n",
      " 3.06844010e+09 4.08533168e+10 2.81498886e+09 1.13457432e+10\n",
      " 6.32242930e+07 1.30328742e+09 1.34104012e+09 7.58670191e+08\n",
      " 1.28439481e+09 1.81402059e+10 1.09985164e+09 9.59624749e+09\n",
      " 1.05965182e+07 1.23375880e+09 1.61238326e+09 5.61212705e+08\n",
      " 9.97437603e+08 1.02733035e+09 6.30979860e+08 8.67420675e+09\n",
      " 7.60019741e+06 1.40926546e+09 1.68903973e+09 5.13046506e+08\n",
      " 7.13772232e+08 8.84533617e+08 8.90606186e+09 8.75839394e+06\n",
      " 1.25591921e+09 1.72029824e+09 6.51510653e+08 6.41997874e+08\n",
      " 3.71098401e+08 6.67387122e+08 9.57325068e+09 7.52615675e+06\n",
      " 1.42769526e+09 1.78206559e+09 5.44895886e+08 5.21565074e+08\n",
      " 2.50438220e+08 2.71624167e+07 1.14007840e+09 1.14929721e+10]\n"
     ]
    }
   ],
   "source": [
    "print('Hasil prediksi:', y_pred)"
   ]
  },
  {
   "cell_type": "code",
   "execution_count": 20,
   "metadata": {},
   "outputs": [],
   "source": [
    "# Menghitung MAPE (Mean Absolute Percentage Error)\n",
    "from sklearn import metrics\n",
    "mae = metrics.mean_absolute_error(y_test, model.predict(X_test))\n",
    "mse = metrics.mean_squared_error(y_test, model.predict(X_test))\n",
    "rmse = np.sqrt(mse)\n",
    "mape = mean_absolute_percentage_error(y_test, y_pred)\n"
   ]
  },
  {
   "cell_type": "code",
   "execution_count": 21,
   "metadata": {},
   "outputs": [
    {
     "name": "stdout",
     "output_type": "stream",
     "text": [
      "MAE: 2377147764.88\n",
      "MSE: 29403585759629025280.00\n",
      "RMSE: 5,422,507,331\n",
      "MAPE: 63.63%\n"
     ]
    }
   ],
   "source": [
    "print(f'MAE: {mae:.2f}')\n",
    "print(f'MSE: {mse:.2f}')\n",
    "formatted_rmse = '{:,.0f}'.format(rmse)\n",
    "print(f'RMSE: {formatted_rmse}')\n",
    "print(f'MAPE: {mape:.2f}%')"
   ]
  },
  {
   "cell_type": "code",
   "execution_count": 22,
   "metadata": {},
   "outputs": [
    {
     "data": {
      "image/png": "[encoded data removed]",
      "text/plain": [
       "<Figure size 2000x500 with 1 Axes>"
      ]
     },
     "metadata": {},
     "output_type": "display_data"
    }
   ],
   "source": [
    "import matplotlib.pyplot as plt\n",
    "import numpy as np\n",
    "\n",
    "# Generate x-axis values (assuming a linear sequence)\n",
    "x = np.arange(1, len(y_train) + len(y_test) + 1)\n",
    "\n",
    "# Define utils of plot\n",
    "plt.figure(figsize = (20, 5))\n",
    "\n",
    "# Plot the data\n",
    "plt.plot(x[:len(y_train)], y_train, label='y_train', color='blue')\n",
    "plt.plot(x[len(y_train):len(y_train)+len(y_test)], y_test, label='y_test', color='green')\n",
    "plt.plot(x[len(y_train):len(y_train)+len(y_pred)], y_pred, label='y_preds', color='red')\n",
    "\n",
    "# Add labels and legend\n",
    "plt.legend()\n",
    "plt.grid(True)\n",
    "plt.title(\"Forecasting Data\")\n",
    "plt.xlabel(\"Index Data\")\n",
    "plt.ylabel(\"Donasi\")\n",
    "\n",
    "# Show the plot\n",
    "plt.show()"
   ]
  },
  {
   "cell_type": "code",
   "execution_count": 23,
   "metadata": {},
   "outputs": [
    {
     "data": {
      "image/png": "[encoded data removed]",
      "text/plain": [
       "<Figure size 1600x1000 with 1 Axes>"
      ]
     },
     "metadata": {},
     "output_type": "display_data"
    }
   ],
   "source": [
    "graph = pd.DataFrame({'Actual':y_test, 'Predicted':y_pred})\n",
    "graph.plot(kind='bar',figsize=(16,10));"
   ]
  },
  {
   "cell_type": "code",
   "execution_count": 30,
   "metadata": {},
   "outputs": [],
   "source": [
    "# # Menyiapkan DataFrame hasil prediksi\n",
    "hasil_prediksi = pd.DataFrame({\n",
    "    'Tahun': dataset['Tahun'].iloc[train_size:],\n",
    "    'Bulan': dataset['Bulan'].iloc[train_size:],\n",
    "    'Jenis': dataset['Jenis'].iloc[train_size:],\n",
    "    'Prediksi_Donasi': y_pred,\n",
    "    'Ekspetasi_Donasi': y_test,\n",
    "    'RMSE': formatted_rmse,\n",
    "    'MAPE': mape\n",
    "})"
   ]
  },
  {
   "cell_type": "code",
   "execution_count": 29,
   "metadata": {},
   "outputs": [],
   "source": [
    "# Menyimpan hasil prediksi ke file Excel\n",
    "hasil_prediksi.to_excel('../../dataset/prediksiJumDonasi.xlsx', index=False)"
   ]
  },
  {
   "cell_type": "code",
   "execution_count": null,
   "metadata": {},
   "outputs": [],
   "source": [
    "# load libraries\n",
    "import pickle"
   ]
  },
  {
   "cell_type": "code",
   "execution_count": null,
   "metadata": {},
   "outputs": [
    {
     "data": {
      "text/plain": [
       "{'CILKUR': 0,\n",
       " 'INFAK': 1,\n",
       " 'INFAK TEMATIK': 2,\n",
       " 'INFAK TERIKAT': 3,\n",
       " 'KEMANUSIAAN': 4,\n",
       " 'KURBAN': 5,\n",
       " 'LAIN-LAIN': 6,\n",
       " 'NON HALAL': 7,\n",
       " 'WAKAF': 8,\n",
       " 'ZAKAT': 9}"
      ]
     },
     "execution_count": 26,
     "metadata": {},
     "output_type": "execute_result"
    }
   ],
   "source": [
    "# overview label encoding result\n",
    "class_to_idx = {j:i for (i, j) in enumerate(encoder.classes_)}\n",
    "class_to_idx"
   ]
  },
  {
   "cell_type": "code",
   "execution_count": null,
   "metadata": {},
   "outputs": [
    {
     "data": {
      "text/plain": [
       "Tahun\n",
       "2019    106\n",
       "2018    105\n",
       "2021    105\n",
       "2020    103\n",
       "Name: count, dtype: int64"
      ]
     },
     "execution_count": 27,
     "metadata": {},
     "output_type": "execute_result"
    }
   ],
   "source": [
    "# overview tahun distribution\n",
    "dataset_encoded['Tahun'].value_counts()"
   ]
  },
  {
   "cell_type": "code",
   "execution_count": null,
   "metadata": {},
   "outputs": [
    {
     "data": {
      "text/plain": [
       "Bulan\n",
       "5     38\n",
       "3     36\n",
       "6     36\n",
       "12    36\n",
       "1     35\n",
       "4     35\n",
       "8     35\n",
       "9     35\n",
       "10    35\n",
       "2     33\n",
       "7     33\n",
       "11    32\n",
       "Name: count, dtype: int64"
      ]
     },
     "execution_count": 28,
     "metadata": {},
     "output_type": "execute_result"
    }
   ],
   "source": [
    "# overview tahun distribution\n",
    "dataset_encoded['Bulan'].value_counts()"
   ]
  },
  {
   "cell_type": "code",
   "execution_count": null,
   "metadata": {},
   "outputs": [],
   "source": [
    "# save model - this is importance step\n",
    "pickle.dump(model, open(\"../model/random_forest_jumdonasi.pkl\", \"wb\"))"
   ]
  },
  {
   "cell_type": "code",
   "execution_count": null,
   "metadata": {},
   "outputs": [
    {
     "name": "stderr",
     "output_type": "stream",
     "text": [
      "c:\\Users\\Lenovo\\AppData\\Local\\Programs\\Python\\Python311\\Lib\\site-packages\\sklearn\\base.py:439: UserWarning: X does not have valid feature names, but RandomForestRegressor was fitted with feature names\n",
      "  warnings.warn(\n"
     ]
    },
    {
     "data": {
      "text/plain": [
       "array([1.35298833e+09])"
      ]
     },
     "execution_count": 30,
     "metadata": {},
     "output_type": "execute_result"
    }
   ],
   "source": [
    "# define sample scenario data\n",
    "tahun = 2020\n",
    "bulan = 1\n",
    "jenis = \"INFAK\"\n",
    "\n",
    "model.predict([[\n",
    "    tahun, \n",
    "    bulan, \n",
    "    class_to_idx[jenis]\n",
    "]])"
   ]
  },
  {
   "cell_type": "code",
   "execution_count": null,
   "metadata": {},
   "outputs": [
    {
     "data": {
      "text/plain": [
       "'1.2.2'"
      ]
     },
     "execution_count": 31,
     "metadata": {},
     "output_type": "execute_result"
    }
   ],
   "source": [
    "import sklearn as s\n",
    "s.__version__"
   ]
  },
  {
   "cell_type": "code",
   "execution_count": null,
   "metadata": {},
   "outputs": [
    {
     "name": "stdout",
     "output_type": "stream",
     "text": [
      "<class 'pandas.core.frame.DataFrame'>\n",
      "RangeIndex: 419 entries, 0 to 418\n",
      "Data columns (total 5 columns):\n",
      " #   Column      Non-Null Count  Dtype\n",
      "---  ------      --------------  -----\n",
      " 0   Tahun       419 non-null    int64\n",
      " 1   Bulan       419 non-null    int64\n",
      " 2   Jenis       419 non-null    int32\n",
      " 3   Donasi      419 non-null    int64\n",
      " 4   JumlahData  419 non-null    int64\n",
      "dtypes: int32(1), int64(4)\n",
      "memory usage: 14.9 KB\n"
     ]
    }
   ],
   "source": [
    "dataset_encoded.info()"
   ]
  }
 ],
 "metadata": {
  "kernelspec": {
   "display_name": "Python 3 (ipykernel)",
   "language": "python",
   "name": "python3"
  },
  "language_info": {
   "codemirror_mode": {
    "name": "ipython",
    "version": 3
   },
   "file_extension": ".py",
   "mimetype": "text/x-python",
   "name": "python",
   "nbconvert_exporter": "python",
   "pygments_lexer": "ipython3",
   "version": "3.11.2"
  },
  "vscode": {
   "interpreter": {
    "hash": "e956c49ae0caa224b5fdd754cbc353d7e61c6c61f7329ee680c7f7b4f1b71a8e"
   }
  }
 },
 "nbformat": 4,
 "nbformat_minor": 2
}
